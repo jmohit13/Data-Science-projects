{
 "cells": [
  {
   "cell_type": "code",
   "execution_count": 9,
   "metadata": {},
   "outputs": [
    {
     "name": "stdout",
     "output_type": "stream",
     "text": [
      "Python 3.6.1\n"
     ]
    }
   ],
   "source": [
    "# https://www.drivendata.org/competitions/4/page/15/#sub_values\n",
    "# multi-class-multi-label classification problem, there are 9 broad categories that each take on many possible sub-label instances.\n",
    "# we are predicting probabilities of certain labels with the goal of grouping the items.\n",
    "# The submission must be 50064x104 where 50064 is the number of rows in the test dataset (excluding the header) and 104 is the number of columns (excluding a first column of row ids). The columns in the submission have the format ColumnName__PossibleLabel\n",
    "\n",
    "# Education Resource Strategies is a non-profit that tackles to solve budget problem with the goal of letting districts be smarter, more strategic, and more effective in their spending.\n",
    "# These labels let ERS understand how schools are spending money and tailor their strategy recommendations to improve outcomes for students, teachers, and administrators.\n",
    "\n",
    "from platform import python_version\n",
    "print(\"Python\", python_version())\n",
    "\n",
    "#import os\n",
    "#print(os.getcwd())"
   ]
  },
  {
   "cell_type": "code",
   "execution_count": 1,
   "metadata": {
    "collapsed": true
   },
   "outputs": [],
   "source": [
    "# Import libraries\n",
    "import numpy as np\n",
    "import pandas as pd\n",
    "import matplotlib.pyplot as plt\n",
    "from time import time\n",
    "from datetime import timedelta\n",
    "\n",
    "from sklearn.linear_model import LogisticRegression\n",
    "from sklearn.multiclass import OneVsRestClassifier "
   ]
  },
  {
   "cell_type": "code",
   "execution_count": 2,
   "metadata": {},
   "outputs": [
    {
     "name": "stdout",
     "output_type": "stream",
     "text": [
      "<class 'pandas.core.frame.DataFrame'>\n",
      "Int64Index: 400277 entries, 134338 to 415831\n",
      "Data columns (total 25 columns):\n",
      "Function                  400277 non-null object\n",
      "Use                       400277 non-null object\n",
      "Sharing                   400277 non-null object\n",
      "Reporting                 400277 non-null object\n",
      "Student_Type              400277 non-null object\n",
      "Position_Type             400277 non-null object\n",
      "Object_Type               400277 non-null object\n",
      "Pre_K                     400277 non-null object\n",
      "Operating_Status          400277 non-null object\n",
      "Object_Description        375493 non-null object\n",
      "Text_2                    88217 non-null object\n",
      "SubFund_Description       306855 non-null object\n",
      "Job_Title_Description     292743 non-null object\n",
      "Text_3                    179964 non-null object\n",
      "Text_4                    53746 non-null object\n",
      "Sub_Object_Description    91603 non-null object\n",
      "Location_Description      162054 non-null object\n",
      "FTE                       126071 non-null float64\n",
      "Function_Description      342195 non-null object\n",
      "Facility_or_Department    53886 non-null object\n",
      "Position_Extra            264764 non-null object\n",
      "Total                     395722 non-null float64\n",
      "Program_Description       304660 non-null object\n",
      "Fund_Description          202877 non-null object\n",
      "Text_1                    292285 non-null object\n",
      "dtypes: float64(2), object(23)\n",
      "memory usage: 79.4+ MB\n",
      "None\n",
      "                       Function          Use          Sharing Reporting  \\\n",
      "134338     Teacher Compensation  Instruction  School Reported    School   \n",
      "206341                 NO_LABEL     NO_LABEL         NO_LABEL  NO_LABEL   \n",
      "326408     Teacher Compensation  Instruction  School Reported    School   \n",
      "364634  Substitute Compensation  Instruction  School Reported    School   \n",
      "47683   Substitute Compensation  Instruction  School Reported    School   \n",
      "\n",
      "       Student_Type Position_Type               Object_Type     Pre_K  \\\n",
      "134338     NO_LABEL       Teacher                  NO_LABEL  NO_LABEL   \n",
      "206341     NO_LABEL      NO_LABEL                  NO_LABEL  NO_LABEL   \n",
      "326408  Unspecified       Teacher  Base Salary/Compensation  Non PreK   \n",
      "364634  Unspecified    Substitute                  Benefits  NO_LABEL   \n",
      "47683   Unspecified       Teacher   Substitute Compensation  NO_LABEL   \n",
      "\n",
      "         Operating_Status            Object_Description  \\\n",
      "134338  PreK-12 Operating                           NaN   \n",
      "206341      Non-Operating           CONTRACTOR SERVICES   \n",
      "326408  PreK-12 Operating  Personal Services - Teachers   \n",
      "364634  PreK-12 Operating             EMPLOYEE BENEFITS   \n",
      "47683   PreK-12 Operating  TEACHER COVERAGE FOR TEACHER   \n",
      "\n",
      "                    ...               Sub_Object_Description  \\\n",
      "134338              ...                                  NaN   \n",
      "206341              ...                                  NaN   \n",
      "326408              ...                                  NaN   \n",
      "364634              ...                                  NaN   \n",
      "47683               ...                                  NaN   \n",
      "\n",
      "       Location_Description  FTE     Function_Description  \\\n",
      "134338                  NaN  1.0                      NaN   \n",
      "206341                  NaN  NaN                 RGN  GOB   \n",
      "326408                  NaN  1.0                      NaN   \n",
      "364634                  NaN  NaN  UNALLOC BUDGETS/SCHOOLS   \n",
      "47683                   NaN  NaN              NON-PROJECT   \n",
      "\n",
      "       Facility_or_Department              Position_Extra      Total  \\\n",
      "134338                    NaN               KINDERGARTEN   50471.810   \n",
      "206341                    NaN                UNDESIGNATED   3477.860   \n",
      "326408                    NaN                     TEACHER  62237.130   \n",
      "364634                    NaN  PROFESSIONAL-INSTRUCTIONAL     22.300   \n",
      "47683                     NaN  PROFESSIONAL-INSTRUCTIONAL     54.166   \n",
      "\n",
      "                   Program_Description        Fund_Description  \\\n",
      "134338                    KINDERGARTEN            General Fund   \n",
      "206341   BUILDING IMPROVEMENT SERVICES                     NaN   \n",
      "326408           Instruction - Regular  General Purpose School   \n",
      "364634  GENERAL MIDDLE/JUNIOR HIGH SCH                     NaN   \n",
      "47683    GENERAL HIGH SCHOOL EDUCATION                     NaN   \n",
      "\n",
      "                               Text_1  \n",
      "134338                            NaN  \n",
      "206341  BUILDING IMPROVEMENT SERVICES  \n",
      "326408                            NaN  \n",
      "364634            REGULAR INSTRUCTION  \n",
      "47683             REGULAR INSTRUCTION  \n",
      "\n",
      "[5 rows x 25 columns]\n",
      "                 FTE         Total\n",
      "count  126071.000000  3.957220e+05\n",
      "mean        0.426794  1.310586e+04\n",
      "std         0.573576  3.682254e+05\n",
      "min        -0.087551 -8.746631e+07\n",
      "25%         0.000792  7.379770e+01\n",
      "50%         0.130927  4.612300e+02\n",
      "75%         1.000000  3.652662e+03\n",
      "max        46.800000  1.297000e+08\n"
     ]
    }
   ],
   "source": [
    "# Load data\n",
    "# /home/radiance/Documents/datasets-7-7-17/ML_School_Budgets\n",
    "df = pd.read_csv(\"/home/radiance/Documents/datasets-7-7-17/ML_School_Budgets/TrainingSet.csv\", index_col=0) # 23 categories, 2 float\n",
    "print(df.info()) # feautures that cannot be identified = object\n",
    "print(df.head())\n",
    "print(df.describe())"
   ]
  },
  {
   "cell_type": "code",
   "execution_count": 3,
   "metadata": {},
   "outputs": [
    {
     "data": {
      "image/png": "[encoded data removed]",
      "text/plain": [
       "<matplotlib.figure.Figure at 0x7fea0f86dcc0>"
      ]
     },
     "metadata": {},
     "output_type": "display_data"
    }
   ],
   "source": [
    "# fix this\n",
    "# histogram of the non-null 'FTE' column\n",
    "plt.hist(df['FTE'].dropna())\n",
    "plt.title(\"Distribution of %full-time \\n employee works\")\n",
    "plt.xlabel(\"% of full-time\")\n",
    "plt.ylabel(\"num of employees\")\n",
    "plt.show()"
   ]
  },
  {
   "cell_type": "code",
   "execution_count": 4,
   "metadata": {},
   "outputs": [
    {
     "name": "stdout",
     "output_type": "stream",
     "text": [
      "Function            category\n",
      "Use                 category\n",
      "Sharing             category\n",
      "Reporting           category\n",
      "Student_Type        category\n",
      "Position_Type       category\n",
      "Object_Type         category\n",
      "Pre_K               category\n",
      "Operating_Status    category\n",
      "dtype: object\n"
     ]
    }
   ],
   "source": [
    "# Exploring datatypes in pandas\n",
    "#print(df.dtypes)\n",
    "#print(df.dtypes.value_counts()) # value_counts is Series method\n",
    "\n",
    "# There are 9 columns of labels in the dataset. Each of these columns is a category that has many possible values it can take.\n",
    "LABELS = ['Function', 'Use', 'Sharing', 'Reporting', 'Student_Type', 'Position_Type', 'Object_Type', 'Pre_K', 'Operating_Status'] \n",
    "#print(df[LABELS])\n",
    "#print(df[LABELS].dtypes) # object\n",
    "#print(type(df[LABELS])) # DataFrame\n",
    "\n",
    "# goal - predict the probability that a certain label is attached to a budget line item. \n",
    "# Encode the labels as categorical variables\n",
    "categorize_label = lambda x: x.astype('category')\n",
    "\n",
    "# .astype() only works on a pandas Series. Since you are working with a pandas DataFrame, you'll need to use the .apply() method and provide a lambda function called categorize_label that applies .astype() to each column, x.\n",
    "df[LABELS] = df[LABELS].apply(categorize_label)\n",
    "# Print the converted dtypes\n",
    "print(df[LABELS].dtypes)\n",
    "\n",
    "#df.label = df[[label]].apply(categorize_label, axis=0) # [[]] - dataframe\n",
    "#df['Function'] = df['Function'].astype('category')\n",
    "#df['Function'].head()"
   ]
  },
  {
   "cell_type": "code",
   "execution_count": 5,
   "metadata": {},
   "outputs": [
    {
     "data": {
      "image/png": "[encoded data removed]",
      "text/plain": [
       "<matplotlib.figure.Figure at 0x7fea0f9641d0>"
      ]
     },
     "metadata": {},
     "output_type": "display_data"
    }
   ],
   "source": [
    "#Counting unique labels\n",
    "# there are over 100 unique labels. count and plotting the number of unique values for each category of label.\n",
    "df['Function'].unique()\n",
    "df['Use'].unique()\n",
    "\n",
    "# pandas - use pd.Series.nunique method for counting the number of unique values in a Series.\n",
    "# Calculate number of unique values for each label: num_unique_labels\n",
    "num_unique_values = df[LABELS].apply(pd.Series.nunique)\n",
    "\n",
    "# Plot number of unique values for each label\n",
    "# Create a bar plot of num_unique_labels\n",
    "num_unique_values.plot(kind='bar')\n",
    "plt.title(\"Distribution of unique values for each category\")\n",
    "plt.xlabel('Labels')\n",
    "plt.ylabel('Number of unique values')\n",
    "plt.show()"
   ]
  },
  {
   "cell_type": "code",
   "execution_count": 7,
   "metadata": {},
   "outputs": [],
   "source": [
    "# Computing log loss with NumPy\n",
    "def compute_log_loss(predicted,actual, eps=1e-14):\n",
    "    logloss = -1 * np.mean(actual*np.log(predicted) + (1-actual)*np.log(1-predicted))\n",
    "    return logloss\n",
    "\n",
    "#Log loss penalizes highly confident wrong answers much more than any other type. This will be a good metric"
   ]
  },
  {
   "cell_type": "code",
   "execution_count": 10,
   "metadata": {},
   "outputs": [
    {
     "name": "stdout",
     "output_type": "stream",
     "text": [
      "X_train info:\n",
      "<class 'pandas.core.frame.DataFrame'>\n",
      "Int64Index: 320222 entries, 134338 to 415831\n",
      "Data columns (total 2 columns):\n",
      "FTE      320222 non-null float64\n",
      "Total    320222 non-null float64\n",
      "dtypes: float64(2)\n",
      "memory usage: 7.3 MB\n",
      "None\n",
      "\n",
      "X_test info:\n",
      "<class 'pandas.core.frame.DataFrame'>\n",
      "Int64Index: 80055 entries, 206341 to 72072\n",
      "Data columns (total 2 columns):\n",
      "FTE      80055 non-null float64\n",
      "Total    80055 non-null float64\n",
      "dtypes: float64(2)\n",
      "memory usage: 1.8 MB\n",
      "None\n",
      "\n",
      "y_train info:\n",
      "<class 'pandas.core.frame.DataFrame'>\n",
      "Int64Index: 320222 entries, 134338 to 415831\n",
      "Columns: 104 entries, Function_Aides Compensation to Operating_Status_PreK-12 Operating\n",
      "dtypes: uint8(104)\n",
      "memory usage: 34.2 MB\n",
      "None\n",
      "\n",
      "y_test info:\n",
      "<class 'pandas.core.frame.DataFrame'>\n",
      "Int64Index: 80055 entries, 206341 to 72072\n",
      "Columns: 104 entries, Function_Aides Compensation to Operating_Status_PreK-12 Operating\n",
      "dtypes: uint8(104)\n",
      "memory usage: 8.6 MB\n",
      "None\n"
     ]
    }
   ],
   "source": [
    "# split the data into a training set and a test set. Some labels don't occur very often, but we want to make sure that they appear in both the training and the test sets. use the function to make sure the least min_count examples of each label appear in each split: multilabel_train_test_split.\n",
    "# Building Simple model with just the numeric columns of your DataFrame\n",
    "\n",
    "NUMERIC_COLUMNS = ['FTE','Total']\n",
    "#df[NUMERIC_COLUMNS]\n",
    "\n",
    "# Create the new DataFrame: numeric_data_only\n",
    "# We are replacing -1000 with NAN so as to differentiate from 0\n",
    "numeric_data_only = pd.DataFrame(df[NUMERIC_COLUMNS]).fillna(-1000)\n",
    "\n",
    "# Dummy variable encoding - binary indicator representation\n",
    "# Get labels and convert to dummy variables: label_dummies\n",
    "label_dummies = pd.get_dummies(df[LABELS], prefix_sep=\"_\")\n",
    "\n",
    "import sys\n",
    "# the ML_School_Budgets contains multilabel.py\n",
    "sys.path.append('/home/radiance/Documents/datasets-7-7-17/ML_School_Budgets')\n",
    "\n",
    "# Import multilabel_train_test_split from /home/radiance/Documents/datasets-7-7-17/ML_School_Budgets/multilabel.py\n",
    "from multilabel import multilabel_train_test_split\n",
    "\n",
    "# Create training and test sets\n",
    "X_train, X_test, y_train, y_test = multilabel_train_test_split(numeric_data_only,\n",
    "                                                               label_dummies,\n",
    "                                                               size=0.2, \n",
    "                                                               seed=123)\n",
    "\n",
    "# Print the info\n",
    "print(\"X_train info:\")\n",
    "print(X_train.info())\n",
    "print(\"\\nX_test info:\")  \n",
    "print(X_test.info())\n",
    "print(\"\\ny_train info:\")  \n",
    "print(y_train.info())\n",
    "print(\"\\ny_test info:\")  \n",
    "print(y_test.info()) \n"
   ]
  },
  {
   "cell_type": "code",
   "execution_count": 11,
   "metadata": {},
   "outputs": [
    {
     "name": "stdout",
     "output_type": "stream",
     "text": [
      "Accuracy: 0.0\n"
     ]
    }
   ],
   "source": [
    "# Training a model\n",
    "# as we're throwing away all of the text data in the dataset - that's by far most of the data! So no killer performance.\n",
    "\n",
    "# Instantiate the classifier: clf\n",
    "clf = OneVsRestClassifier(LogisticRegression())\n",
    "\n",
    "# Fit the classifier to the training data\n",
    "clf.fit(X_train, y_train)\n",
    "\n",
    "# Print the accuracy\n",
    "print(\"Accuracy: {}\".format(clf.score(X_test, y_test)))\n",
    "\n",
    "# The bad news is that your model scored the lowest possible accuracy: 0.0! But hey, you just threw away ALL of the text data in the budget. Later, you won't. Before you add the text data, let's see how the model does when scored by log loss."
   ]
  },
  {
   "cell_type": "code",
   "execution_count": 14,
   "metadata": {},
   "outputs": [
    {
     "name": "stdout",
     "output_type": "stream",
     "text": [
      "Started training classifier\n",
      "Time taken to train classifier: 0:05:29.860768\n"
     ]
    }
   ],
   "source": [
    "# Use your model to predict values on holdout data\n",
    "# The original goal is to predict the probability of each label. use the .predict_proba() method on your trained model.\n",
    "# from time import time\n",
    "\n",
    "# Instantiate the classifier: clf\n",
    "clf = OneVsRestClassifier(LogisticRegression())\n",
    "start = time()\n",
    "print(\"Started training classifier\")\n",
    "# Fit it to the training data\n",
    "clf.fit(X_train, y_train)\n",
    "print(\"Time taken to train classifier: {}\".format(timedelta(seconds=time() - start)))"
   ]
  },
  {
   "cell_type": "code",
   "execution_count": 16,
   "metadata": {},
   "outputs": [
    {
     "name": "stdout",
     "output_type": "stream",
     "text": [
      "There are 385 tokens in Position_Extra if we split on non-alpha numeric\n",
      "['1st', '2nd', '3rd', '4th', '56', '5th', '9th', 'a', 'ab', 'accountability', 'adaptive', 'addit', 'additional', 'adm', 'admin']\n"
     ]
    }
   ],
   "source": [
    "# Creating a bag-of-words in scikit-learn\n",
    "# focus on one feature Position_Extra column, which describes any additional information not captured by the Position_Type label like df.loc[8960]\n",
    "# Position_Extra has lots of NaN\n",
    "\n",
    "# Import CountVectorizer\n",
    "from sklearn.feature_extraction.text import CountVectorizer\n",
    "\n",
    "# Create the token pattern: TOKENS_ALPHANUMERIC\n",
    "TOKENS_ALPHANUMERIC = '[A-Za-z0-9]+(?=\\\\s+)'\n",
    "\n",
    "# Fill missing values in df.Position_Extra\n",
    "df.Position_Extra.fillna('', inplace=True)\n",
    "\n",
    "# Instantiate the CountVectorizer: vec_alphanumeric\n",
    "vec_alphanumeric = CountVectorizer(token_pattern=TOKENS_ALPHANUMERIC)\n",
    "\n",
    "# Fit to the data\n",
    "vec_alphanumeric.fit(df.Position_Extra)\n",
    "\n",
    "# Print the number of tokens and first 15 tokens\n",
    "msg = \"There are {} tokens in Position_Extra if we split on non-alpha numeric\"\n",
    "print(msg.format(len(vec_alphanumeric.get_feature_names())))\n",
    "print(vec_alphanumeric.get_feature_names()[:15])\n",
    "# Treating only alpha-numeric characters as tokens gives you a smaller number of more meaningful tokens. You've got bag-of-words in the bag!"
   ]
  },
  {
   "cell_type": "code",
   "execution_count": 17,
   "metadata": {
    "collapsed": true
   },
   "outputs": [],
   "source": [
    "# Combining text columns for tokenization\n",
    "# CountVectorizer expects each row to just be a single string, so in order to use all of the text columns, you'll need a method to turn a list of strings into a single string.\n",
    "# this function will convert all training text data in your DataFrame to a single string per row that can be passed to the vectorizer object and made into a bag-of-words using the .fit_transform() method.\n",
    "\n",
    "# Define combine_text_columns()\n",
    "def combine_text_columns(data_frame, to_drop=NUMERIC_COLUMNS + LABELS):\n",
    "    \"\"\" converts all text in each row of data_frame to single vector \"\"\"\n",
    "    \n",
    "    # Drop non-text columns that are in the df\n",
    "    to_drop = set(to_drop) & set(data_frame.columns.tolist())\n",
    "    text_data = data_frame.drop(to_drop, axis=1)\n",
    "    \n",
    "    # Replace nans with blanks\n",
    "    text_data.fillna(\"\", inplace=True)\n",
    "    \n",
    "    # Join all text items in a row that have a space in between\n",
    "    return text_data.apply(lambda x: \" \".join(x), axis=1)"
   ]
  },
  {
   "cell_type": "code",
   "execution_count": 18,
   "metadata": {},
   "outputs": [
    {
     "name": "stdout",
     "output_type": "stream",
     "text": [
      "There are 4758 tokens in the dataset\n",
      "There are 3284 alpha-numeric tokens in the dataset\n"
     ]
    }
   ],
   "source": [
    "# Now you will use combine_text_columns to convert all training text data in your DataFrame to a single vector that can be passed to the vectorizer object and made into a bag-of-words using the .fit_transform() method.\n",
    "# Import the CountVectorizer\n",
    "from sklearn.feature_extraction.text import CountVectorizer\n",
    "\n",
    "# Create the basic token pattern\n",
    "# this regex splits on whitespace\n",
    "TOKENS_BASIC = '\\\\S+(?=\\\\s+)'\n",
    "\n",
    "# Create the alphanumeric token pattern\n",
    "TOKENS_ALPHANUMERIC = '[A-Za-z0-9]+(?=\\\\s+)'\n",
    "\n",
    "# Instantiate basic CountVectorizer: vec_basic\n",
    "vec_basic = CountVectorizer(token_pattern=TOKENS_BASIC)\n",
    "\n",
    "# Instantiate alphanumeric CountVectorizer: vec_alphanumeric\n",
    "vec_alphanumeric = CountVectorizer(token_pattern=TOKENS_ALPHANUMERIC)\n",
    "\n",
    "# Create the text vector\n",
    "text_vector = combine_text_columns(df)\n",
    "\n",
    "# Fit and transform vec_basic\n",
    "# Fit parses the data and creates a vocabulary, while Transform tokenize text and produce an array of counts\n",
    "vec_basic.fit_transform(text_vector)\n",
    "\n",
    "# Print number of tokens of vec_basic\n",
    "print(\"There are {} tokens in the dataset\".format(len(vec_basic.get_feature_names())))\n",
    "\n",
    "# Fit and transform vec_alphanumeric\n",
    "vec_alphanumeric.fit_transform(text_vector)\n",
    "\n",
    "# Print number of tokens of vec_alphanumeric\n",
    "print(\"There are {} alpha-numeric tokens in the dataset\".format(len(vec_alphanumeric.get_feature_names())))"
   ]
  },
  {
   "cell_type": "code",
   "execution_count": 19,
   "metadata": {
    "collapsed": true
   },
   "outputs": [],
   "source": [
    "# Using FunctionTransformer on the main dataset\n",
    "# using FunctionTransformer on the primary budget data, before instantiating a multiple-datatype pipeline\n",
    "# custom function combine_text_columns to select and properly format text data for tokenization\n",
    "# Concerning the numeric data, you can use NUMERIC_COLUMNS, preloaded as usual, to help design a subset-selecting lambda function.\n",
    "\n",
    "# Import FunctionTransformer\n",
    "from sklearn.preprocessing import FunctionTransformer\n",
    "\n",
    "# Get the dummy encoding of the labels\n",
    "dummy_labels = pd.get_dummies(df[LABELS])\n",
    "\n",
    "# Get the columns that are features in the original df\n",
    "NON_LABELS = [c for c in df.columns if c not in LABELS]\n",
    "\n",
    "# Split into training and test sets\n",
    "X_train, X_test, y_train, y_test = multilabel_train_test_split(df[NON_LABELS],\n",
    "                                                               dummy_labels,\n",
    "                                                               0.2, \n",
    "                                                               seed=123)\n",
    "\n",
    "# Preprocess the text data: get_text_data\n",
    "get_text_data = FunctionTransformer(combine_text_columns, validate=False)\n",
    "\n",
    "# Preprocess the numeric data: get_numeric_data\n",
    "get_numeric_data = FunctionTransformer(lambda x: x[NUMERIC_COLUMNS], validate=False)\n"
   ]
  },
  {
   "cell_type": "code",
   "execution_count": 21,
   "metadata": {},
   "outputs": [
    {
     "name": "stdout",
     "output_type": "stream",
     "text": [
      "Started training classifier\n",
      "Time taken to train classifier: 0:15:11.268339\n",
      "\n",
      "Accuracy on budget dataset:  0.351258509775\n"
     ]
    }
   ],
   "source": [
    "# Add a model to the pipeline\n",
    "# The structure of the pipeline\n",
    "# the preprocessing step uses FeatureUnion to join the results of nested pipelines that each rely on FunctionTransformer to select multiple datatypes\n",
    "# the model step stores the model object\n",
    "\n",
    "from sklearn.preprocessing import Imputer\n",
    "from sklearn.pipeline import FeatureUnion\n",
    "from sklearn.pipeline import Pipeline\n",
    "\n",
    "# Complete the pipeline: pl\n",
    "pl = Pipeline([\n",
    "        ('union', FeatureUnion(\n",
    "            transformer_list = [\n",
    "                ('numeric_features', Pipeline([\n",
    "                    ('selector',get_numeric_data),\n",
    "                    ('imputer', Imputer())\n",
    "                ])),\n",
    "                ('text_features', Pipeline([\n",
    "                    ('selector', get_text_data),\n",
    "                    ('vectorizer', CountVectorizer())\n",
    "                ]))\n",
    "             ]\n",
    "        )),\n",
    "        ('clf', OneVsRestClassifier(LogisticRegression()))\n",
    "    ])\n",
    "\n",
    "start = time()\n",
    "print(\"Started training classifier\")\n",
    "# Fit it to the training data\n",
    "pl.fit(X_train, y_train)\n",
    "print(\"Time taken to train classifier: {}\".format(timedelta(seconds=time() - start)))\n",
    "\n",
    "# Compute and print accuracy\n",
    "accuracy = pl.score(X_test, y_test)\n",
    "print(\"\\nAccuracy on budget dataset: \", accuracy)"
   ]
  },
  {
   "cell_type": "code",
   "execution_count": 22,
   "metadata": {},
   "outputs": [
    {
     "name": "stdout",
     "output_type": "stream",
     "text": [
      "Started training classifier\n",
      "Time taken to train classifier: 0:06:50.485994\n",
      "\n",
      "Accuracy on budget dataset:  0.912759977515\n"
     ]
    }
   ],
   "source": [
    "# adjusting the model or parameters to improve accuracy?\n",
    "# Updating the parameters n_estimators of RandomForestClassifier(), whose default value is 10, to 15.\n",
    "\n",
    "# Import RandomForestClassifier\n",
    "from sklearn.ensemble import RandomForestClassifier\n",
    "\n",
    "# Add model step to pipeline: pl\n",
    "pl = Pipeline([\n",
    "        ('union', FeatureUnion(\n",
    "            transformer_list = [\n",
    "                ('numeric_features', Pipeline([\n",
    "                    ('selector', get_numeric_data),\n",
    "                    ('imputer', Imputer())\n",
    "                ])),\n",
    "                ('text_features', Pipeline([\n",
    "                    ('selector', get_text_data),\n",
    "                    ('vectorizer', CountVectorizer())\n",
    "                ]))\n",
    "             ]\n",
    "        )),\n",
    "        ('clf', RandomForestClassifier(n_estimators=15))\n",
    "    ])\n",
    "\n",
    "start = time()\n",
    "print(\"Started training classifier\")\n",
    "# Fit it to the training data\n",
    "pl.fit(X_train, y_train)\n",
    "print(\"Time taken to train classifier: {}\".format(timedelta(seconds=time() - start)))\n",
    "\n",
    "# Compute and print accuracy\n",
    "accuracy = pl.score(X_test, y_test)\n",
    "print(\"\\nAccuracy on budget dataset: \", accuracy)\n",
    "# It's time to get serious and work with the log loss metric."
   ]
  },
  {
   "cell_type": "code",
   "execution_count": 23,
   "metadata": {},
   "outputs": [
    {
     "name": "stdout",
     "output_type": "stream",
     "text": [
      "Started fiting text_vector...\n",
      "Total time taken to train text_vector: 0:00:07.429016\n",
      "['00a', '12', '1st', '2nd', '3rd', '4th', '5', '56', '5th', '6']\n"
     ]
    }
   ],
   "source": [
    "# Using CountVectorizer on the training data X_train to see the effect of tokenization on punctuation. Remember, since CountVectorizer expects a vector, combine_text_columns before fitting to the training data.\n",
    "# Importing the CountVectorizer\n",
    "from sklearn.feature_extraction.text import CountVectorizer\n",
    "\n",
    "# Create the text vector\n",
    "text_vector = combine_text_columns(X_train)\n",
    "\n",
    "# Create the token pattern: TOKENS_ALPHANUMERIC\n",
    "TOKENS_ALPHANUMERIC = '[A-Za-z0-9]+(?=\\\\s+)'\n",
    "\n",
    "# Instantiate the CountVectorizer: text_features\n",
    "text_features = CountVectorizer(token_pattern=TOKENS_ALPHANUMERIC)\n",
    "\n",
    "start = time()\n",
    "print(\"Started fiting text_vector...\")\n",
    "# Fit text_features to the text vector\n",
    "text_features.fit(text_vector)\n",
    "print(\"Total time taken to train text_vector: {}\".format(timedelta(seconds=time() - start)))\n",
    "\n",
    "# Print the first 10 tokens\n",
    "print(text_features.get_feature_names()[:10])"
   ]
  },
  {
   "cell_type": "code",
   "execution_count": 24,
   "metadata": {},
   "outputs": [
    {
     "name": "stdout",
     "output_type": "stream",
     "text": [
      "Started training classifier\n",
      "Time taken to train classifier: 0:07:32.167802\n"
     ]
    }
   ],
   "source": [
    "# N-gram range - look for ngram relationships at multiple scales, you will use the ngram_range parameter - 1,2\n",
    "# Adding dim_red step & scale step\n",
    "# Apply dimensionality reduction technique - dim_red step. we have to scale the features to lie between -1 and 1 using scale step.\n",
    "# The dim_red step uses SelectKBest(), applying chi-squared test to select the K \"best\" features. The scale step uses MaxAbsScaler() in order to squash the relevant features into the interval -1 to 1.\n",
    "\n",
    "# Import pipeline\n",
    "from sklearn.pipeline import Pipeline\n",
    "\n",
    "# Import classifiers\n",
    "from sklearn.linear_model import LogisticRegression\n",
    "from sklearn.multiclass import OneVsRestClassifier\n",
    "\n",
    "# Import CountVectorizer\n",
    "from sklearn.feature_extraction.text import CountVectorizer\n",
    "\n",
    "# Import other preprocessing modules\n",
    "from sklearn.preprocessing import Imputer\n",
    "from sklearn.feature_selection import chi2, SelectKBest\n",
    "\n",
    "# Select 300 best features\n",
    "chi_k = 300\n",
    "\n",
    "# Import functional utilities\n",
    "from sklearn.preprocessing import FunctionTransformer, MaxAbsScaler\n",
    "from sklearn.pipeline import FeatureUnion\n",
    "\n",
    "# Perform preprocessing\n",
    "get_text_data = FunctionTransformer(combine_text_columns, validate=False)\n",
    "get_numeric_data = FunctionTransformer(lambda x: x[NUMERIC_COLUMNS], validate=False)\n",
    "\n",
    "# Create the token pattern: TOKENS_ALPHANUMERIC\n",
    "TOKENS_ALPHANUMERIC = '[A-Za-z0-9]+(?=\\\\s+)'\n",
    "\n",
    "# Instantiate pipeline: pl\n",
    "pl = Pipeline([\n",
    "        ('union', FeatureUnion(\n",
    "            transformer_list = [\n",
    "                ('numeric_features', Pipeline([\n",
    "                    ('selector', get_numeric_data),\n",
    "                    ('imputer', Imputer())\n",
    "                ])),\n",
    "                ('text_features', Pipeline([\n",
    "                    ('selector', get_text_data),\n",
    "                    ('vectorizer', CountVectorizer(token_pattern=TOKENS_ALPHANUMERIC,\n",
    "                                                   ngram_range=(1,2))),\n",
    "                    ('dim_red', SelectKBest(chi2, chi_k))\n",
    "                ]))\n",
    "             ]\n",
    "        )),\n",
    "        ('scale', MaxAbsScaler()),\n",
    "        ('clf', OneVsRestClassifier(LogisticRegression()))\n",
    "    ])\n",
    "\n",
    "start = time()\n",
    "print(\"Started training classifier\")\n",
    "# Fit it to the training data\n",
    "pl.fit(X_train, y_train)\n",
    "print(\"Time taken to train classifier: {}\".format(timedelta(seconds=time() - start)))\n",
    "\n",
    "# Log loss score: 1.2681."
   ]
  },
  {
   "cell_type": "code",
   "execution_count": 29,
   "metadata": {},
   "outputs": [
    {
     "name": "stdout",
     "output_type": "stream",
     "text": [
      "Started training classifier\n"
     ]
    },
    {
     "data": {
      "text/plain": [
       "Pipeline(memory=None,\n",
       "     steps=[('union', FeatureUnion(n_jobs=1,\n",
       "       transformer_list=[('numeric_features', Pipeline(memory=None,\n",
       "     steps=[('selector', FunctionTransformer(accept_sparse=False,\n",
       "          func=<function <lambda> at 0x7fe9fa912730>, inv_kw_args=None,\n",
       "          inverse_func=None, kw_args=None, pass_y='dep...=None, solver='liblinear', tol=0.0001,\n",
       "          verbose=0, warm_start=False),\n",
       "          n_jobs=1))])"
      ]
     },
     "execution_count": 29,
     "metadata": {},
     "output_type": "execute_result"
    }
   ],
   "source": [
    "# interaction modeling with SparseInteractions - Interaction terms are a statistical tool that lets your model express what happens if two features appear together in the same row.\n",
    "# considering interaction terms of degree=2\n",
    "# interaction terms - take long to train - making n features into n-squared features\n",
    "\n",
    "from SparseInteractions import SparseInteractions\n",
    "\n",
    "# Instantiate pipeline: pl\n",
    "pl = Pipeline([\n",
    "        ('union', FeatureUnion(\n",
    "            transformer_list = [\n",
    "                ('numeric_features', Pipeline([\n",
    "                    ('selector', get_numeric_data),\n",
    "                    ('imputer', Imputer())\n",
    "                ])),\n",
    "                ('text_features', Pipeline([\n",
    "                    ('selector', get_text_data),\n",
    "                    ('vectorizer', CountVectorizer(token_pattern=TOKENS_ALPHANUMERIC,\n",
    "                                                   ngram_range=(1, 2))),  \n",
    "                    ('dim_red', SelectKBest(chi2, chi_k))\n",
    "                ]))\n",
    "             ]\n",
    "        )),\n",
    "        ('int', SparseInteractions(degree=2)),\n",
    "        ('scale', MaxAbsScaler()),\n",
    "        ('clf', OneVsRestClassifier(LogisticRegression()))\n",
    "    ])\n",
    "\n",
    "print(\"Started training classifier\")\n",
    "# Fit it to the training data\n",
    "pl.fit(X_train, y_train)\n",
    "# Log loss score: 1.2256. Nice improvement from 1.2681!"
   ]
  },
  {
   "cell_type": "code",
   "execution_count": 30,
   "metadata": {},
   "outputs": [
    {
     "name": "stdout",
     "output_type": "stream",
     "text": [
      "\n",
      "Accuracy on budget dataset:  0.787508587846\n"
     ]
    }
   ],
   "source": [
    "# Compute and print accuracy\n",
    "accuracy = pl.score(X_test, y_test)\n",
    "print(\"\\nAccuracy on budget dataset: \", accuracy)"
   ]
  },
  {
   "cell_type": "code",
   "execution_count": 26,
   "metadata": {},
   "outputs": [
    {
     "name": "stderr",
     "output_type": "stream",
     "text": [
      "/home/radiance/anaconda3/lib/python3.6/site-packages/sklearn/feature_extraction/hashing.py:94: DeprecationWarning: the option non_negative=True has been deprecated in 0.19 and will be removed in version 0.21.\n",
      "  \" in version 0.21.\", DeprecationWarning)\n",
      "/home/radiance/anaconda3/lib/python3.6/site-packages/sklearn/feature_extraction/hashing.py:94: DeprecationWarning: the option non_negative=True has been deprecated in 0.19 and will be removed in version 0.21.\n",
      "  \" in version 0.21.\", DeprecationWarning)\n"
     ]
    },
    {
     "name": "stdout",
     "output_type": "stream",
     "text": [
      "     0\n",
      "0  1.0\n",
      "1  1.0\n",
      "2  2.0\n",
      "3  1.0\n",
      "4  1.0\n"
     ]
    }
   ],
   "source": [
    "# using hashing trick?\n",
    "# a hash function takes an input, in your case a token, and outputs a hash value. For example, the input may be a string and the hash value may be an integer.\n",
    "# Enforcing a fixed length can speed up calculations drastically, especially on large datasets!\n",
    "# Hashing vectorizer is very low memory scalable to large datasets as there is no need to store a vocabulary dictionary in memory,   it is fast to pickle and un-pickle as it holds no state besides the constructor parameters, it can be used in a streaming (partial fit) or parallel pipeline as there is no state computed during fit.\n",
    "\n",
    "# Implementing the hashing trick in scikit-learn\n",
    "# HashingVectorizer acts just like CountVectorizer in that it can accept token_pattern and ngram_range parameters. The important difference is that it creates hash values from the text, so that we get all the computational advantages of hashing!\n",
    "\n",
    "# Import HashingVectorizer\n",
    "from sklearn.feature_extraction.text import HashingVectorizer\n",
    "\n",
    "# Get text data: text_data\n",
    "text_data = combine_text_columns(X_train)\n",
    "\n",
    "# Create the token pattern: TOKENS_ALPHANUMERIC\n",
    "TOKENS_ALPHANUMERIC = '[A-Za-z0-9]+(?=\\\\s+)' \n",
    "\n",
    "# Instantiate the HashingVectorizer: hashing_vec\n",
    "hashing_vec = HashingVectorizer(norm=None,non_negative=True,token_pattern=TOKENS_ALPHANUMERIC,ngram_range=(1,2))\n",
    "\n",
    "# Fit and transform the Hashing Vectorizer\n",
    "hashed_text = hashing_vec.fit_transform(text_data)\n",
    "\n",
    "# Create DataFrame and print the head\n",
    "hashed_df = pd.DataFrame(hashed_text.data)\n",
    "print(hashed_df.head())"
   ]
  },
  {
   "cell_type": "code",
   "execution_count": null,
   "metadata": {},
   "outputs": [
    {
     "name": "stdout",
     "output_type": "stream",
     "text": [
      "Started training classifier\n"
     ]
    },
    {
     "name": "stderr",
     "output_type": "stream",
     "text": [
      "/home/radiance/anaconda3/lib/python3.6/site-packages/sklearn/feature_extraction/hashing.py:94: DeprecationWarning: the option non_negative=True has been deprecated in 0.19 and will be removed in version 0.21.\n",
      "  \" in version 0.21.\", DeprecationWarning)\n",
      "/home/radiance/anaconda3/lib/python3.6/site-packages/sklearn/feature_extraction/hashing.py:94: DeprecationWarning: the option non_negative=True has been deprecated in 0.19 and will be removed in version 0.21.\n",
      "  \" in version 0.21.\", DeprecationWarning)\n"
     ]
    }
   ],
   "source": [
    "# Final model\n",
    "# add the HashingVectorizer step to the pipeline to replace the CountVectorizer step.\n",
    "\n",
    "# Import the hashing vectorizer\n",
    "from sklearn.feature_extraction.text import HashingVectorizer\n",
    "\n",
    "# Instantiate the winning model pipeline: pl\n",
    "pl = Pipeline([\n",
    "        ('union', FeatureUnion(\n",
    "            transformer_list = [\n",
    "                ('numeric_features', Pipeline([\n",
    "                    ('selector', get_numeric_data),\n",
    "                    ('imputer', Imputer())\n",
    "                ])),\n",
    "                ('text_features', Pipeline([\n",
    "                    ('selector', get_text_data),\n",
    "                    ('vectorizer', HashingVectorizer(token_pattern=TOKENS_ALPHANUMERIC,\n",
    "                                                     non_negative=True, norm=None, binary=False,\n",
    "                                                     ngram_range=(1,2))),\n",
    "                    ('dim_red', SelectKBest(chi2, chi_k))\n",
    "                ]))\n",
    "             ]\n",
    "        )),\n",
    "        ('int', SparseInteractions(degree=2)),\n",
    "        ('scale', MaxAbsScaler()),\n",
    "        ('clf', OneVsRestClassifier(LogisticRegression()))\n",
    "    ])\n",
    "\n",
    "print(\"Started training classifier\")\n",
    "# Fit it to the training data\n",
    "pl.fit(X_train, y_train)\n",
    "print(\"Time taken to train classifier: {}\".format(timedelta(seconds=time() - start)))\n",
    "\n",
    "# Compute and print accuracy\n",
    "accuracy = pl.score(X_test, y_test)\n",
    "print(\"\\nAccuracy on budget dataset: \", accuracy)\n"
   ]
  },
  {
   "cell_type": "code",
   "execution_count": null,
   "metadata": {
    "collapsed": true
   },
   "outputs": [],
   "source": []
  },
  {
   "cell_type": "code",
   "execution_count": null,
   "metadata": {
    "collapsed": true
   },
   "outputs": [],
   "source": []
  },
  {
   "cell_type": "code",
   "execution_count": null,
   "metadata": {
    "collapsed": true
   },
   "outputs": [],
   "source": []
  }
 ],
 "metadata": {
  "kernelspec": {
   "display_name": "Python 3",
   "language": "python",
   "name": "python3"
  },
  "language_info": {
   "codemirror_mode": {
    "name": "ipython",
    "version": 3
   },
   "file_extension": ".py",
   "mimetype": "text/x-python",
   "name": "python",
   "nbconvert_exporter": "python",
   "pygments_lexer": "ipython3",
   "version": "3.6.1"
  }
 },
 "nbformat": 4,
 "nbformat_minor": 2
}
